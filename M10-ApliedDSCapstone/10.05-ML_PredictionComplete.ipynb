{
 "cells": [
  {
   "cell_type": "markdown",
   "id": "41593bee-f400-41e3-99b6-f8ef31daf585",
   "metadata": {},
   "source": [
    "# **Space X  Falcon 9 First Stage Landing Prediction**\n",
    "## Hands on Lab: Complete the Machine Learning Prediction lab"
   ]
  },
  {
   "cell_type": "markdown",
   "id": "f5aaa20e-c6cb-4a14-a9f3-8e097deb3dec",
   "metadata": {},
   "source": [
    "## Objectives\n",
    "Perform exploratory  Data Analysis and determine Training Labels\n",
    "\n",
    "*   create a column for the class\n",
    "*   Standardize the data\n",
    "*   Split into training data and test data\n",
    "\n",
    "\\-Find best Hyperparameter for SVM, Classification Trees and Logistic Regression\n",
    "\n",
    "*   Find the method performs best using test data"
   ]
  },
  {
   "cell_type": "markdown",
   "id": "d793e821-26b2-419d-a9ca-3a1e0d63a9f2",
   "metadata": {},
   "source": [
    "<hr>"
   ]
  },
  {
   "cell_type": "code",
   "execution_count": 1,
   "id": "05077ea8-2815-49e2-ae14-78db1339fa74",
   "metadata": {},
   "outputs": [],
   "source": [
    "# Pandas is a software library written for the Python programming language for data manipulation and analysis.\n",
    "import pandas as pd\n",
    "# NumPy is a library for the Python programming language, adding support for large, multi-dimensional arrays and matrices, along with a large collection of high-level mathematical functions to operate on these arrays\n",
    "import numpy as np\n",
    "# Matplotlib is a plotting library for python and pyplot gives us a MatLab like plotting framework. We will use this in our plotter function to plot data.\n",
    "import matplotlib.pyplot as plt\n",
    "#Seaborn is a Python data visualization library based on matplotlib. It provides a high-level interface for drawing attractive and informative statistical graphics\n",
    "import seaborn as sns\n",
    "# Preprocessing allows us to standarsize our data\n",
    "from sklearn import preprocessing\n",
    "# Allows us to split our data into training and testing data\n",
    "from sklearn.model_selection import train_test_split\n",
    "# Allows us to test parameters of classification algorithms and find the best one\n",
    "from sklearn.model_selection import GridSearchCV\n",
    "# Logistic Regression classification algorithm\n",
    "from sklearn.linear_model import LogisticRegression\n",
    "# Support Vector Machine classification algorithm\n",
    "from sklearn.svm import SVC\n",
    "# Decision Tree classification algorithm\n",
    "from sklearn.tree import DecisionTreeClassifier\n",
    "# K Nearest Neighbors classification algorithm\n",
    "from sklearn.neighbors import KNeighborsClassifier"
   ]
  },
  {
   "cell_type": "markdown",
   "id": "b2697eac-89f8-498c-a384-a8dbdb8edc3d",
   "metadata": {},
   "source": [
    "**This function is to plot the confusion matrix.**"
   ]
  },
  {
   "cell_type": "code",
   "execution_count": 2,
   "id": "134408f7-30b3-4f08-ad7f-65eb25af3460",
   "metadata": {},
   "outputs": [],
   "source": [
    "def plot_confusion_matrix(y,y_predict):\n",
    "    \"this function plots the confusion matrix\"\n",
    "    from sklearn.metrics import confusion_matrix\n",
    "\n",
    "    cm = confusion_matrix(y, y_predict)\n",
    "    ax= plt.subplot()\n",
    "    sns.heatmap(cm, annot=True, ax = ax); #annot=True to annotate cells\n",
    "    ax.set_xlabel('Predicted labels')\n",
    "    ax.set_ylabel('True labels')\n",
    "    ax.set_title('Confusion Matrix'); \n",
    "    ax.xaxis.set_ticklabels(['did not land', 'land']); ax.yaxis.set_ticklabels(['did not land', 'landed']) \n",
    "    plt.show() "
   ]
  },
  {
   "cell_type": "markdown",
   "id": "45e11697-1ad3-493a-a840-2fa01001d6a5",
   "metadata": {},
   "source": [
    "## Load the dataframe"
   ]
  },
  {
   "cell_type": "code",
   "execution_count": 5,
   "id": "114ab282-a9ae-488a-bc8c-eb18b02643f8",
   "metadata": {},
   "outputs": [
    {
     "data": {
      "text/html": [
       "<div>\n",
       "<style scoped>\n",
       "    .dataframe tbody tr th:only-of-type {\n",
       "        vertical-align: middle;\n",
       "    }\n",
       "\n",
       "    .dataframe tbody tr th {\n",
       "        vertical-align: top;\n",
       "    }\n",
       "\n",
       "    .dataframe thead th {\n",
       "        text-align: right;\n",
       "    }\n",
       "</style>\n",
       "<table border=\"1\" class=\"dataframe\">\n",
       "  <thead>\n",
       "    <tr style=\"text-align: right;\">\n",
       "      <th></th>\n",
       "      <th>FlightNumber</th>\n",
       "      <th>Date</th>\n",
       "      <th>BoosterVersion</th>\n",
       "      <th>PayloadMass</th>\n",
       "      <th>Orbit</th>\n",
       "      <th>LaunchSite</th>\n",
       "      <th>Outcome</th>\n",
       "      <th>Flights</th>\n",
       "      <th>GridFins</th>\n",
       "      <th>Reused</th>\n",
       "      <th>Legs</th>\n",
       "      <th>LandingPad</th>\n",
       "      <th>Block</th>\n",
       "      <th>ReusedCount</th>\n",
       "      <th>Serial</th>\n",
       "      <th>Longitude</th>\n",
       "      <th>Latitude</th>\n",
       "      <th>Class</th>\n",
       "    </tr>\n",
       "  </thead>\n",
       "  <tbody>\n",
       "    <tr>\n",
       "      <th>0</th>\n",
       "      <td>1</td>\n",
       "      <td>2010-06-04</td>\n",
       "      <td>Falcon 9</td>\n",
       "      <td>6104.959412</td>\n",
       "      <td>LEO</td>\n",
       "      <td>CCAFS SLC 40</td>\n",
       "      <td>None None</td>\n",
       "      <td>1</td>\n",
       "      <td>False</td>\n",
       "      <td>False</td>\n",
       "      <td>False</td>\n",
       "      <td>NaN</td>\n",
       "      <td>1.0</td>\n",
       "      <td>0</td>\n",
       "      <td>B0003</td>\n",
       "      <td>-80.577366</td>\n",
       "      <td>28.561857</td>\n",
       "      <td>0</td>\n",
       "    </tr>\n",
       "    <tr>\n",
       "      <th>1</th>\n",
       "      <td>2</td>\n",
       "      <td>2012-05-22</td>\n",
       "      <td>Falcon 9</td>\n",
       "      <td>525.000000</td>\n",
       "      <td>LEO</td>\n",
       "      <td>CCAFS SLC 40</td>\n",
       "      <td>None None</td>\n",
       "      <td>1</td>\n",
       "      <td>False</td>\n",
       "      <td>False</td>\n",
       "      <td>False</td>\n",
       "      <td>NaN</td>\n",
       "      <td>1.0</td>\n",
       "      <td>0</td>\n",
       "      <td>B0005</td>\n",
       "      <td>-80.577366</td>\n",
       "      <td>28.561857</td>\n",
       "      <td>0</td>\n",
       "    </tr>\n",
       "    <tr>\n",
       "      <th>2</th>\n",
       "      <td>3</td>\n",
       "      <td>2013-03-01</td>\n",
       "      <td>Falcon 9</td>\n",
       "      <td>677.000000</td>\n",
       "      <td>ISS</td>\n",
       "      <td>CCAFS SLC 40</td>\n",
       "      <td>None None</td>\n",
       "      <td>1</td>\n",
       "      <td>False</td>\n",
       "      <td>False</td>\n",
       "      <td>False</td>\n",
       "      <td>NaN</td>\n",
       "      <td>1.0</td>\n",
       "      <td>0</td>\n",
       "      <td>B0007</td>\n",
       "      <td>-80.577366</td>\n",
       "      <td>28.561857</td>\n",
       "      <td>0</td>\n",
       "    </tr>\n",
       "    <tr>\n",
       "      <th>3</th>\n",
       "      <td>4</td>\n",
       "      <td>2013-09-29</td>\n",
       "      <td>Falcon 9</td>\n",
       "      <td>500.000000</td>\n",
       "      <td>PO</td>\n",
       "      <td>VAFB SLC 4E</td>\n",
       "      <td>False Ocean</td>\n",
       "      <td>1</td>\n",
       "      <td>False</td>\n",
       "      <td>False</td>\n",
       "      <td>False</td>\n",
       "      <td>NaN</td>\n",
       "      <td>1.0</td>\n",
       "      <td>0</td>\n",
       "      <td>B1003</td>\n",
       "      <td>-120.610829</td>\n",
       "      <td>34.632093</td>\n",
       "      <td>0</td>\n",
       "    </tr>\n",
       "    <tr>\n",
       "      <th>4</th>\n",
       "      <td>5</td>\n",
       "      <td>2013-12-03</td>\n",
       "      <td>Falcon 9</td>\n",
       "      <td>3170.000000</td>\n",
       "      <td>GTO</td>\n",
       "      <td>CCAFS SLC 40</td>\n",
       "      <td>None None</td>\n",
       "      <td>1</td>\n",
       "      <td>False</td>\n",
       "      <td>False</td>\n",
       "      <td>False</td>\n",
       "      <td>NaN</td>\n",
       "      <td>1.0</td>\n",
       "      <td>0</td>\n",
       "      <td>B1004</td>\n",
       "      <td>-80.577366</td>\n",
       "      <td>28.561857</td>\n",
       "      <td>0</td>\n",
       "    </tr>\n",
       "  </tbody>\n",
       "</table>\n",
       "</div>"
      ],
      "text/plain": [
       "   FlightNumber        Date BoosterVersion  PayloadMass Orbit    LaunchSite  \\\n",
       "0             1  2010-06-04       Falcon 9  6104.959412   LEO  CCAFS SLC 40   \n",
       "1             2  2012-05-22       Falcon 9   525.000000   LEO  CCAFS SLC 40   \n",
       "2             3  2013-03-01       Falcon 9   677.000000   ISS  CCAFS SLC 40   \n",
       "3             4  2013-09-29       Falcon 9   500.000000    PO   VAFB SLC 4E   \n",
       "4             5  2013-12-03       Falcon 9  3170.000000   GTO  CCAFS SLC 40   \n",
       "\n",
       "       Outcome  Flights  GridFins  Reused   Legs LandingPad  Block  \\\n",
       "0    None None        1     False   False  False        NaN    1.0   \n",
       "1    None None        1     False   False  False        NaN    1.0   \n",
       "2    None None        1     False   False  False        NaN    1.0   \n",
       "3  False Ocean        1     False   False  False        NaN    1.0   \n",
       "4    None None        1     False   False  False        NaN    1.0   \n",
       "\n",
       "   ReusedCount Serial   Longitude   Latitude  Class  \n",
       "0            0  B0003  -80.577366  28.561857      0  \n",
       "1            0  B0005  -80.577366  28.561857      0  \n",
       "2            0  B0007  -80.577366  28.561857      0  \n",
       "3            0  B1003 -120.610829  34.632093      0  \n",
       "4            0  B1004  -80.577366  28.561857      0  "
      ]
     },
     "execution_count": 5,
     "metadata": {},
     "output_type": "execute_result"
    }
   ],
   "source": [
    "import requests\n",
    "import pandas as pd\n",
    "from io import StringIO\n",
    "\n",
    "URL1 = \"https://cf-courses-data.s3.us.cloud-object-storage.appdomain.cloud/IBM-DS0321EN-SkillsNetwork/datasets/dataset_part_2.csv\"\n",
    "resp1 = requests.get(URL1)\n",
    "data = resp1.text  # Convertimos la respuesta a texto\n",
    "\n",
    "# Leemos el CSV desde el texto obtenido\n",
    "df = pd.read_csv(StringIO(data))\n",
    "df.head(5)\n"
   ]
  },
  {
   "cell_type": "code",
   "execution_count": 6,
   "id": "3930b7e9-0709-47bf-84c1-e7387c4b798b",
   "metadata": {},
   "outputs": [
    {
     "data": {
      "text/html": [
       "<div>\n",
       "<style scoped>\n",
       "    .dataframe tbody tr th:only-of-type {\n",
       "        vertical-align: middle;\n",
       "    }\n",
       "\n",
       "    .dataframe tbody tr th {\n",
       "        vertical-align: top;\n",
       "    }\n",
       "\n",
       "    .dataframe thead th {\n",
       "        text-align: right;\n",
       "    }\n",
       "</style>\n",
       "<table border=\"1\" class=\"dataframe\">\n",
       "  <thead>\n",
       "    <tr style=\"text-align: right;\">\n",
       "      <th></th>\n",
       "      <th>FlightNumber</th>\n",
       "      <th>PayloadMass</th>\n",
       "      <th>Flights</th>\n",
       "      <th>Block</th>\n",
       "      <th>ReusedCount</th>\n",
       "      <th>Orbit_ES-L1</th>\n",
       "      <th>Orbit_GEO</th>\n",
       "      <th>Orbit_GTO</th>\n",
       "      <th>Orbit_HEO</th>\n",
       "      <th>Orbit_ISS</th>\n",
       "      <th>...</th>\n",
       "      <th>Serial_B1058</th>\n",
       "      <th>Serial_B1059</th>\n",
       "      <th>Serial_B1060</th>\n",
       "      <th>Serial_B1062</th>\n",
       "      <th>GridFins_False</th>\n",
       "      <th>GridFins_True</th>\n",
       "      <th>Reused_False</th>\n",
       "      <th>Reused_True</th>\n",
       "      <th>Legs_False</th>\n",
       "      <th>Legs_True</th>\n",
       "    </tr>\n",
       "  </thead>\n",
       "  <tbody>\n",
       "    <tr>\n",
       "      <th>0</th>\n",
       "      <td>1.0</td>\n",
       "      <td>6104.959412</td>\n",
       "      <td>1.0</td>\n",
       "      <td>1.0</td>\n",
       "      <td>0.0</td>\n",
       "      <td>0.0</td>\n",
       "      <td>0.0</td>\n",
       "      <td>0.0</td>\n",
       "      <td>0.0</td>\n",
       "      <td>0.0</td>\n",
       "      <td>...</td>\n",
       "      <td>0.0</td>\n",
       "      <td>0.0</td>\n",
       "      <td>0.0</td>\n",
       "      <td>0.0</td>\n",
       "      <td>1.0</td>\n",
       "      <td>0.0</td>\n",
       "      <td>1.0</td>\n",
       "      <td>0.0</td>\n",
       "      <td>1.0</td>\n",
       "      <td>0.0</td>\n",
       "    </tr>\n",
       "    <tr>\n",
       "      <th>1</th>\n",
       "      <td>2.0</td>\n",
       "      <td>525.000000</td>\n",
       "      <td>1.0</td>\n",
       "      <td>1.0</td>\n",
       "      <td>0.0</td>\n",
       "      <td>0.0</td>\n",
       "      <td>0.0</td>\n",
       "      <td>0.0</td>\n",
       "      <td>0.0</td>\n",
       "      <td>0.0</td>\n",
       "      <td>...</td>\n",
       "      <td>0.0</td>\n",
       "      <td>0.0</td>\n",
       "      <td>0.0</td>\n",
       "      <td>0.0</td>\n",
       "      <td>1.0</td>\n",
       "      <td>0.0</td>\n",
       "      <td>1.0</td>\n",
       "      <td>0.0</td>\n",
       "      <td>1.0</td>\n",
       "      <td>0.0</td>\n",
       "    </tr>\n",
       "    <tr>\n",
       "      <th>2</th>\n",
       "      <td>3.0</td>\n",
       "      <td>677.000000</td>\n",
       "      <td>1.0</td>\n",
       "      <td>1.0</td>\n",
       "      <td>0.0</td>\n",
       "      <td>0.0</td>\n",
       "      <td>0.0</td>\n",
       "      <td>0.0</td>\n",
       "      <td>0.0</td>\n",
       "      <td>1.0</td>\n",
       "      <td>...</td>\n",
       "      <td>0.0</td>\n",
       "      <td>0.0</td>\n",
       "      <td>0.0</td>\n",
       "      <td>0.0</td>\n",
       "      <td>1.0</td>\n",
       "      <td>0.0</td>\n",
       "      <td>1.0</td>\n",
       "      <td>0.0</td>\n",
       "      <td>1.0</td>\n",
       "      <td>0.0</td>\n",
       "    </tr>\n",
       "    <tr>\n",
       "      <th>3</th>\n",
       "      <td>4.0</td>\n",
       "      <td>500.000000</td>\n",
       "      <td>1.0</td>\n",
       "      <td>1.0</td>\n",
       "      <td>0.0</td>\n",
       "      <td>0.0</td>\n",
       "      <td>0.0</td>\n",
       "      <td>0.0</td>\n",
       "      <td>0.0</td>\n",
       "      <td>0.0</td>\n",
       "      <td>...</td>\n",
       "      <td>0.0</td>\n",
       "      <td>0.0</td>\n",
       "      <td>0.0</td>\n",
       "      <td>0.0</td>\n",
       "      <td>1.0</td>\n",
       "      <td>0.0</td>\n",
       "      <td>1.0</td>\n",
       "      <td>0.0</td>\n",
       "      <td>1.0</td>\n",
       "      <td>0.0</td>\n",
       "    </tr>\n",
       "    <tr>\n",
       "      <th>4</th>\n",
       "      <td>5.0</td>\n",
       "      <td>3170.000000</td>\n",
       "      <td>1.0</td>\n",
       "      <td>1.0</td>\n",
       "      <td>0.0</td>\n",
       "      <td>0.0</td>\n",
       "      <td>0.0</td>\n",
       "      <td>1.0</td>\n",
       "      <td>0.0</td>\n",
       "      <td>0.0</td>\n",
       "      <td>...</td>\n",
       "      <td>0.0</td>\n",
       "      <td>0.0</td>\n",
       "      <td>0.0</td>\n",
       "      <td>0.0</td>\n",
       "      <td>1.0</td>\n",
       "      <td>0.0</td>\n",
       "      <td>1.0</td>\n",
       "      <td>0.0</td>\n",
       "      <td>1.0</td>\n",
       "      <td>0.0</td>\n",
       "    </tr>\n",
       "  </tbody>\n",
       "</table>\n",
       "<p>5 rows × 83 columns</p>\n",
       "</div>"
      ],
      "text/plain": [
       "   FlightNumber  PayloadMass  Flights  Block  ReusedCount  Orbit_ES-L1  \\\n",
       "0           1.0  6104.959412      1.0    1.0          0.0          0.0   \n",
       "1           2.0   525.000000      1.0    1.0          0.0          0.0   \n",
       "2           3.0   677.000000      1.0    1.0          0.0          0.0   \n",
       "3           4.0   500.000000      1.0    1.0          0.0          0.0   \n",
       "4           5.0  3170.000000      1.0    1.0          0.0          0.0   \n",
       "\n",
       "   Orbit_GEO  Orbit_GTO  Orbit_HEO  Orbit_ISS  ...  Serial_B1058  \\\n",
       "0        0.0        0.0        0.0        0.0  ...           0.0   \n",
       "1        0.0        0.0        0.0        0.0  ...           0.0   \n",
       "2        0.0        0.0        0.0        1.0  ...           0.0   \n",
       "3        0.0        0.0        0.0        0.0  ...           0.0   \n",
       "4        0.0        1.0        0.0        0.0  ...           0.0   \n",
       "\n",
       "   Serial_B1059  Serial_B1060  Serial_B1062  GridFins_False  GridFins_True  \\\n",
       "0           0.0           0.0           0.0             1.0            0.0   \n",
       "1           0.0           0.0           0.0             1.0            0.0   \n",
       "2           0.0           0.0           0.0             1.0            0.0   \n",
       "3           0.0           0.0           0.0             1.0            0.0   \n",
       "4           0.0           0.0           0.0             1.0            0.0   \n",
       "\n",
       "   Reused_False  Reused_True  Legs_False  Legs_True  \n",
       "0           1.0          0.0         1.0        0.0  \n",
       "1           1.0          0.0         1.0        0.0  \n",
       "2           1.0          0.0         1.0        0.0  \n",
       "3           1.0          0.0         1.0        0.0  \n",
       "4           1.0          0.0         1.0        0.0  \n",
       "\n",
       "[5 rows x 83 columns]"
      ]
     },
     "execution_count": 6,
     "metadata": {},
     "output_type": "execute_result"
    }
   ],
   "source": [
    "URL2 = 'https://cf-courses-data.s3.us.cloud-object-storage.appdomain.cloud/IBM-DS0321EN-SkillsNetwork/datasets/dataset_part_3.csv'\n",
    "resp2 = requests.get(URL2)\n",
    "data2 = resp2.text  # Convertimos la respuesta a texto\n",
    "\n",
    "# Leemos el CSV desde el texto obtenido\n",
    "X = pd.read_csv(StringIO(data2))\n",
    "X.head(5)"
   ]
  },
  {
   "cell_type": "markdown",
   "id": "502a03c2-a211-4e4e-a572-86c04d5e4b1f",
   "metadata": {},
   "source": [
    "## TASK  1\n",
    "Create a NumPy array from the column <code>Class</code> in <code>data</code>, by applying the method <code>to_numpy()</code>  then\n",
    "assign it  to the variable <code>Y</code>,make sure the output is a  Pandas series (only one bracket df\\['name of  column'])."
   ]
  },
  {
   "cell_type": "code",
   "execution_count": 7,
   "id": "d96837ae-64ad-4c39-a3d5-3f4a2e10edc5",
   "metadata": {},
   "outputs": [
    {
     "name": "stdout",
     "output_type": "stream",
     "text": [
      "<class 'numpy.ndarray'>\n"
     ]
    }
   ],
   "source": [
    "# Convertir la columna 'Class' a un array de NumPy y asignarlo a la variable Y\n",
    "Y = df['Class'].to_numpy()\n",
    "\n",
    "# Verificar que el resultado es una serie de pandas\n",
    "print(type(Y))  # Debería ser <class 'numpy.ndarray'>"
   ]
  },
  {
   "cell_type": "markdown",
   "id": "22b74126-52d8-4ca4-b2ab-ee9120bb2b25",
   "metadata": {},
   "source": [
    "## TASK  2\n",
    "Standardize the data in <code>X</code> then reassign it to the variable  <code>X</code> using the transform provided below."
   ]
  },
  {
   "cell_type": "markdown",
   "id": "dc1c6fb7-1a0d-49bd-acf7-60819f57a94a",
   "metadata": {},
   "source": [
    "Para realizar la Task 2, primero vamos a estandarizar los datos en el dataframe X utilizando el StandardScaler de sklearn.preprocessing. Luego, vamos a dividir los datos en conjuntos de entrenamiento y prueba utilizando train_test_split de sklearn.model_selection. Finalmente, te proporcionaré el código para usar el GridSearchCV para optimizar los hiperparámetros."
   ]
  },
  {
   "cell_type": "code",
   "execution_count": 9,
   "id": "df5aad6c-6cc1-421f-a6f1-1dbd6b7ff861",
   "metadata": {},
   "outputs": [
    {
     "name": "stdout",
     "output_type": "stream",
     "text": [
      "Mejores parámetros encontrados: {'max_depth': 5, 'min_samples_split': 10, 'n_estimators': 10}\n",
      "Mejor puntaje de validación: 0.8057142857142857\n",
      "Puntaje en el conjunto de prueba: 0.9444444444444444\n"
     ]
    }
   ],
   "source": [
    "from sklearn import preprocessing\n",
    "from sklearn.model_selection import train_test_split\n",
    "from sklearn.model_selection import GridSearchCV\n",
    "from sklearn.ensemble import RandomForestClassifier  # Puedes usar cualquier modelo que quieras\n",
    "import numpy as np\n",
    "\n",
    "# Paso 1: Estandarizar los datos\n",
    "transform = preprocessing.StandardScaler()\n",
    "X_scaled = transform.fit_transform(X)\n",
    "\n",
    "# Reasignar el resultado estandarizado a la variable X\n",
    "X = X_scaled\n",
    "\n",
    "# Paso 2: Dividir los datos en conjuntos de entrenamiento y prueba\n",
    "X_train, X_test, Y_train, Y_test = train_test_split(X, Y, test_size=0.2, random_state=42)\n",
    "\n",
    "# Paso 3: Configurar GridSearchCV para buscar los mejores hiperparámetros\n",
    "# En este caso, utilizamos RandomForestClassifier como ejemplo, puedes cambiar el modelo si es necesario\n",
    "model = RandomForestClassifier(random_state=42)\n",
    "\n",
    "# Definir los hiperparámetros que queremos probar\n",
    "param_grid = {\n",
    "    'n_estimators': [10, 50, 100],  # Número de árboles\n",
    "    'max_depth': [5, 10, 20],  # Profundidad máxima de los árboles\n",
    "    'min_samples_split': [2, 5, 10]  # Mínimo de muestras necesarias para dividir un nodo\n",
    "}\n",
    "\n",
    "# Crear el objeto GridSearchCV\n",
    "grid_search = GridSearchCV(estimator=model, param_grid=param_grid, cv=5, scoring='accuracy')\n",
    "\n",
    "# Ajustar el modelo usando GridSearchCV\n",
    "grid_search.fit(X_train, Y_train)\n",
    "\n",
    "# Mostrar los mejores parámetros y el mejor puntaje\n",
    "print(\"Mejores parámetros encontrados:\", grid_search.best_params_)\n",
    "print(\"Mejor puntaje de validación:\", grid_search.best_score_)\n",
    "\n",
    "# Paso 4: Evaluar el modelo en el conjunto de prueba\n",
    "best_model = grid_search.best_estimator_\n",
    "test_score = best_model.score(X_test, Y_test)\n",
    "print(\"Puntaje en el conjunto de prueba:\", test_score)\n"
   ]
  },
  {
   "cell_type": "markdown",
   "id": "3812a8a6-d33c-4e6c-b4d4-9cffb6141409",
   "metadata": {},
   "source": [
    "We split the data into training and testing data using the  function  <code>train_test_split</code>.   The training data is divided into validation data, a second set used for training  data; then the models are trained and hyperparameters are selected using the function <code>GridSearchCV</code>.\n"
   ]
  },
  {
   "cell_type": "markdown",
   "id": "2451a242-e83d-4a9e-b963-a65ff6401fdf",
   "metadata": {},
   "source": [
    "## TASK  3\n",
    "Use the function train_test_split to split the data X and Y into training and test data. Set the parameter test_size to  0.2 and random_state to 2. The training data and test data should be assigned to the following labels.\n"
   ]
  },
  {
   "cell_type": "markdown",
   "id": "e395ce61-b35b-495a-8a7a-9b4a0b845bf1",
   "metadata": {},
   "source": [
    "Para TASK 3, se requiere dividir los datos en un conjunto de entrenamiento y otro de prueba utilizando train_test_split. El tamaño de la prueba debe ser del 20% (test_size=0.2) y se debe fijar la semilla aleatoria para asegurar que los resultados sean reproducibles (random_state=2). Además, te interesa ver cuántas muestras de prueba (Y_test.shape) tenemos después de la división."
   ]
  },
  {
   "cell_type": "code",
   "execution_count": 10,
   "id": "08550ed6-ec32-4d80-b62f-251b6c4d54fe",
   "metadata": {},
   "outputs": [
    {
     "name": "stdout",
     "output_type": "stream",
     "text": [
      "Tamaño de Y_test: (18,)\n"
     ]
    }
   ],
   "source": [
    "from sklearn.model_selection import train_test_split\n",
    "\n",
    "# Dividir los datos en conjunto de entrenamiento y conjunto de prueba\n",
    "X_train, X_test, Y_train, Y_test = train_test_split(X, Y, test_size=0.2, random_state=2)\n",
    "\n",
    "# Verificar el tamaño de Y_test para ver cuántas muestras de prueba tenemos\n",
    "print(\"Tamaño de Y_test:\", Y_test.shape)\n"
   ]
  },
  {
   "cell_type": "markdown",
   "id": "770060ef-4a55-4003-b6ff-8bcff7f52b61",
   "metadata": {},
   "source": [
    "## TASK  4\n",
    "Create a logistic regression object  then create a  GridSearchCV object  <code>logreg_cv</code> with cv = 10.  Fit the object to find the best parameters from the dictionary <code>parameters</code>."
   ]
  },
  {
   "cell_type": "markdown",
   "id": "87f548b1-ca21-4cd5-8860-d8b7bfd94fb6",
   "metadata": {},
   "source": [
    "Para completar el TASK 4, necesitas crear un objeto de regresión logística y un objeto de GridSearchCV para buscar los mejores hiperparámetros, ajustar el modelo a los datos y mostrar los resultados de la mejor configuración."
   ]
  },
  {
   "cell_type": "code",
   "execution_count": 12,
   "id": "59da7f97-7044-4887-b32a-5fa1b55dc9ff",
   "metadata": {},
   "outputs": [
    {
     "name": "stdout",
     "output_type": "stream",
     "text": [
      "Tuned hyperparameters (best parameters): {'C': 0.01, 'penalty': 'l2', 'solver': 'lbfgs'}\n",
      "Accuracy: 0.8464285714285713\n"
     ]
    }
   ],
   "source": [
    "from sklearn.linear_model import LogisticRegression\n",
    "from sklearn.model_selection import GridSearchCV\n",
    "\n",
    "# Crear el objeto de regresión logística\n",
    "lr = LogisticRegression()\n",
    "\n",
    "# Definir el diccionario de parámetros a ajustar\n",
    "parameters = {\n",
    "    'C': [0.01, 0.1, 1],  # Parámetros de regularización\n",
    "    'penalty': ['l2'],     # Tipo de penalización (L2)\n",
    "    'solver': ['lbfgs']    # Algoritmo de optimización\n",
    "}\n",
    "\n",
    "# Crear el objeto GridSearchCV para búsqueda en 10-fold cross-validation\n",
    "logreg_cv = GridSearchCV(estimator=lr, param_grid=parameters, cv=10)\n",
    "\n",
    "# Ajustar el modelo con los datos de entrenamiento (X_train, Y_train)\n",
    "logreg_cv.fit(X_train, Y_train)\n",
    "\n",
    "# Mostrar los mejores parámetros encontrados y la precisión en el conjunto de validación\n",
    "print(\"Tuned hyperparameters (best parameters):\", logreg_cv.best_params_)\n",
    "print(\"Accuracy:\", logreg_cv.best_score_)\n"
   ]
  },
  {
   "cell_type": "markdown",
   "id": "0c91b8d5-629f-4d76-92d1-b3de51f61168",
   "metadata": {},
   "source": [
    "## TASK  5\n",
    "Calculate the accuracy on the test data using the method <code>score</code>:"
   ]
  },
  {
   "cell_type": "markdown",
   "id": "d758c9e5-490c-409c-9e0b-c2313dbd53ed",
   "metadata": {},
   "source": [
    "Para completar el TASK 5, debes calcular la precisión del modelo en los datos de prueba usando el método score, y luego generar y visualizar la matriz de confusión para ver cómo el modelo predice las clases."
   ]
  },
  {
   "cell_type": "code",
   "execution_count": 14,
   "id": "b18a0560-4510-4325-b53d-187abae04dd5",
   "metadata": {},
   "outputs": [
    {
     "name": "stdout",
     "output_type": "stream",
     "text": [
      "Accuracy on test data: 0.8333333333333334\n"
     ]
    },
    {
     "data": {
      "image/png": "[encoded data removed]",
      "text/plain": [
       "<Figure size 640x480 with 2 Axes>"
      ]
     },
     "metadata": {},
     "output_type": "display_data"
    }
   ],
   "source": [
    "from sklearn.metrics import confusion_matrix\n",
    "import seaborn as sns\n",
    "import matplotlib.pyplot as plt\n",
    "\n",
    "# Calcular la precisión en los datos de prueba\n",
    "accuracy = logreg_cv.score(X_test, Y_test)\n",
    "print(f\"Accuracy on test data: {accuracy}\")\n",
    "\n",
    "# Predecir las clases para los datos de prueba\n",
    "yhat = logreg_cv.predict(X_test)\n",
    "\n",
    "# Función para graficar la matriz de confusión\n",
    "def plot_confusion_matrix(y, y_predict):\n",
    "    cm = confusion_matrix(y, y_predict)\n",
    "    ax = plt.subplot()\n",
    "    sns.heatmap(cm, annot=True, ax=ax, fmt='g')  # annot=True para anotar las celdas\n",
    "    ax.set_xlabel('Predicted labels')\n",
    "    ax.set_ylabel('True labels')\n",
    "    ax.set_title('Confusion Matrix')\n",
    "    ax.xaxis.set_ticklabels(['did not land', 'landed'])  # Etiquetas para las predicciones\n",
    "    ax.yaxis.set_ticklabels(['did not land', 'landed'])  # Etiquetas para las etiquetas verdaderas\n",
    "    plt.show()\n",
    "\n",
    "# Visualizar la matriz de confusión\n",
    "plot_confusion_matrix(Y_test, yhat)\n"
   ]
  },
  {
   "cell_type": "markdown",
   "id": "6b2e925b-a6e8-4e9c-89d7-433994fbcdcd",
   "metadata": {},
   "source": [
    "## TASK  6\n",
    "Create a support vector machine object then  create a  <code>GridSearchCV</code> object  <code>svm_cv</code> with cv = 10.  Fit the object to find the best parameters from the dictionary <code>parameters</code>.\n"
   ]
  },
  {
   "cell_type": "markdown",
   "id": "92f51295-ee69-4fe3-afd2-ea7ee4017d9e",
   "metadata": {},
   "source": [
    "Para completar TASK 6, debes crear un objeto Support Vector Machine (SVM), luego crear un objeto GridSearchCV para encontrar los mejores parámetros utilizando un conjunto de parámetros específicos. Después de ajustar el modelo con los datos de entrenamiento, se deben imprimir los mejores parámetros encontrados y la precisión del modelo en los datos de validación."
   ]
  },
  {
   "cell_type": "code",
   "execution_count": 15,
   "id": "d2df115a-0df6-44e1-85d3-0d606113599c",
   "metadata": {},
   "outputs": [
    {
     "name": "stdout",
     "output_type": "stream",
     "text": [
      "Tuned hyperparameters (best parameters):  {'C': np.float64(1.0), 'gamma': np.float64(0.03162277660168379), 'kernel': 'sigmoid'}\n",
      "Accuracy on validation data:  0.8482142857142856\n"
     ]
    }
   ],
   "source": [
    "from sklearn.svm import SVC\n",
    "from sklearn.model_selection import GridSearchCV\n",
    "import numpy as np\n",
    "\n",
    "# Definir los parámetros para la búsqueda en cuadrícula\n",
    "parameters = {\n",
    "    'kernel': ['linear', 'rbf', 'poly', 'sigmoid'],\n",
    "    'C': np.logspace(-3, 3, 5),  # Diferentes valores de C\n",
    "    'gamma': np.logspace(-3, 3, 5)  # Diferentes valores de gamma\n",
    "}\n",
    "\n",
    "# Crear el objeto SVM\n",
    "svm = SVC()\n",
    "\n",
    "# Crear el objeto GridSearchCV con validación cruzada de 10 pliegues\n",
    "svm_cv = GridSearchCV(svm, parameters, cv=10)\n",
    "\n",
    "# Ajustar el modelo a los datos de entrenamiento\n",
    "svm_cv.fit(X_train, Y_train)\n",
    "\n",
    "# Imprimir los mejores parámetros encontrados y la precisión en los datos de validación\n",
    "print(\"Tuned hyperparameters (best parameters): \", svm_cv.best_params_)\n",
    "print(\"Accuracy on validation data: \", svm_cv.best_score_)\n"
   ]
  },
  {
   "cell_type": "markdown",
   "id": "7d83bc1b-f41c-4c4a-b9c8-f4f423fa9c38",
   "metadata": {},
   "source": [
    "## TASK  7\n",
    "Calculate the accuracy on the test data using the method <code>score</code>:"
   ]
  },
  {
   "cell_type": "markdown",
   "id": "18cba159-5914-4b61-83f5-ecd3de40c23e",
   "metadata": {},
   "source": [
    "Para completar TASK 7, debes calcular la precisión del modelo SVM en los datos de prueba utilizando el método score y luego generar la matriz de confusión usando la función plot_confusion_matrix que definiste anteriormente."
   ]
  },
  {
   "cell_type": "code",
   "execution_count": 16,
   "id": "f0018cec-c6ca-46f3-a21c-b0b5ab6b9664",
   "metadata": {},
   "outputs": [
    {
     "name": "stdout",
     "output_type": "stream",
     "text": [
      "Accuracy on test data: 0.8333333333333334\n"
     ]
    },
    {
     "data": {
      "image/png": "[encoded data removed]",
      "text/plain": [
       "<Figure size 640x480 with 2 Axes>"
      ]
     },
     "metadata": {},
     "output_type": "display_data"
    }
   ],
   "source": [
    "# Calcular la precisión en los datos de prueba usando el método score\n",
    "accuracy_test = svm_cv.score(X_test, Y_test)\n",
    "\n",
    "# Imprimir la precisión en los datos de prueba\n",
    "print(f\"Accuracy on test data: {accuracy_test}\")\n",
    "\n",
    "# Realizar predicciones en los datos de prueba\n",
    "yhat = svm_cv.predict(X_test)\n",
    "\n",
    "# Plotear la matriz de confusión\n",
    "plot_confusion_matrix(Y_test, yhat)\n"
   ]
  },
  {
   "cell_type": "markdown",
   "id": "8c44f1cf-ab79-4111-be91-2e9fae5c504d",
   "metadata": {},
   "source": [
    "## TASK  8\n",
    "Create a decision tree classifier object then  create a  <code>GridSearchCV</code> object  <code>tree_cv</code> with cv = 10.  Fit the object to find the best parameters from the dictionary <code>parameters</code>."
   ]
  },
  {
   "cell_type": "markdown",
   "id": "464c85c1-7da2-4879-8839-80f6647119a7",
   "metadata": {},
   "source": [
    "Para completar TASK 8, vamos a crear un objeto de DecisionTreeClassifier, luego un GridSearchCV para encontrar los mejores parámetros usando la validación cruzada. "
   ]
  },
  {
   "cell_type": "code",
   "execution_count": 18,
   "id": "a3665199-5df0-4225-b875-ddbb8973e55e",
   "metadata": {},
   "outputs": [
    {
     "name": "stdout",
     "output_type": "stream",
     "text": [
      "Tuned hyperparameters (best parameters): {'criterion': 'entropy', 'max_depth': 6, 'max_features': 'sqrt', 'min_samples_leaf': 4, 'min_samples_split': 5, 'splitter': 'random'}\n",
      "Accuracy: 0.8714285714285713\n"
     ]
    }
   ],
   "source": [
    "from sklearn.tree import DecisionTreeClassifier\n",
    "from sklearn.model_selection import GridSearchCV\n",
    "import warnings\n",
    "warnings.filterwarnings('ignore')\n",
    "\n",
    "\n",
    "# Parámetros para el GridSearchCV\n",
    "parameters = {\n",
    "    'criterion': ['gini', 'entropy'],\n",
    "    'splitter': ['best', 'random'],\n",
    "    'max_depth': [2 * n for n in range(1, 10)],\n",
    "    'max_features': ['auto', 'sqrt'],\n",
    "    'min_samples_leaf': [1, 2, 4],\n",
    "    'min_samples_split': [2, 5, 10]\n",
    "}\n",
    "\n",
    "# Crear el clasificador de árbol de decisión\n",
    "tree = DecisionTreeClassifier()\n",
    "\n",
    "# Crear el GridSearchCV\n",
    "tree_cv = GridSearchCV(tree, parameters, cv=10)\n",
    "\n",
    "# Ajustar el modelo con el conjunto de datos de entrenamiento\n",
    "tree_cv.fit(X_train, Y_train)\n",
    "\n",
    "# Imprimir los mejores parámetros encontrados\n",
    "print(\"Tuned hyperparameters (best parameters):\", tree_cv.best_params_)\n",
    "\n",
    "# Imprimir la mejor precisión obtenida en la validación\n",
    "print(\"Accuracy:\", tree_cv.best_score_)\n"
   ]
  },
  {
   "cell_type": "markdown",
   "id": "0285c196-0092-49b7-a58b-3b2417e19a96",
   "metadata": {},
   "source": [
    "## TASK  9\n",
    "Calculate the accuracy of tree_cv on the test data using the method <code>score</code>:"
   ]
  },
  {
   "cell_type": "markdown",
   "id": "b877f132-304e-4ccf-889e-a75b05d8ae83",
   "metadata": {},
   "source": [
    "Para realizar el TASK 9, primero se debe calcular la precisión (accuracy) del modelo tree_cv utilizando el método .score() sobre el conjunto de prueba (X_test, Y_test). Luego, se puede generar la matriz de confusión utilizando la función plot_confusion_matrix que ya has definido."
   ]
  },
  {
   "cell_type": "code",
   "execution_count": 19,
   "id": "a279da9d-9a47-48e1-877c-68aef1b1a778",
   "metadata": {},
   "outputs": [
    {
     "name": "stdout",
     "output_type": "stream",
     "text": [
      "Accuracy on test data: 0.8333333333333334\n"
     ]
    },
    {
     "data": {
      "image/png": "[encoded data removed]",
      "text/plain": [
       "<Figure size 640x480 with 2 Axes>"
      ]
     },
     "metadata": {},
     "output_type": "display_data"
    }
   ],
   "source": [
    "# Calcular la precisión en el conjunto de prueba\n",
    "accuracy = tree_cv.score(X_test, Y_test)\n",
    "print(f\"Accuracy on test data: {accuracy}\")\n",
    "\n",
    "# Realizar la predicción en el conjunto de prueba\n",
    "yhat = tree_cv.predict(X_test)\n",
    "\n",
    "# Graficar la matriz de confusión\n",
    "plot_confusion_matrix(Y_test, yhat)\n"
   ]
  },
  {
   "cell_type": "markdown",
   "id": "a11d10d3-77e2-44ad-8dd5-bcd818e2663a",
   "metadata": {},
   "source": [
    "## TASK  10\n",
    "Create a k nearest neighbors object then  create a  <code>GridSearchCV</code> object  <code>knn_cv</code> with cv = 10.  Fit the object to find the best parameters from the dictionary <code>parameters</code>."
   ]
  },
  {
   "cell_type": "markdown",
   "id": "666309f8-c2b0-4e11-bc55-66d9a3314d84",
   "metadata": {},
   "source": [
    "Para realizar TASK 10, vamos a seguir los pasos para crear el modelo de k-Nearest Neighbors (KNN), definir el objeto GridSearchCV para buscar los mejores parámetros, y luego ajustarlo a los datos."
   ]
  },
  {
   "cell_type": "code",
   "execution_count": 22,
   "id": "efef2d0d-587d-4bf2-a03d-93eb4175b127",
   "metadata": {},
   "outputs": [
    {
     "name": "stdout",
     "output_type": "stream",
     "text": [
      "Tuned hyperparameters :(best parameters)  {'algorithm': 'auto', 'n_neighbors': 10, 'p': 1}\n",
      "Accuracy : 0.8482142857142858\n"
     ]
    }
   ],
   "source": [
    "from sklearn.model_selection import GridSearchCV\n",
    "from sklearn.neighbors import KNeighborsClassifier\n",
    "\n",
    "# Definir los parámetros para la búsqueda en grid\n",
    "parameters = {\n",
    "    'n_neighbors': [1, 2, 3, 4, 5, 6, 7, 8, 9, 10],\n",
    "    'algorithm': ['auto', 'ball_tree', 'kd_tree', 'brute'],\n",
    "    'p': [1, 2]  # p=1 para Manhattan, p=2 para Euclidean\n",
    "}\n",
    "\n",
    "# Crear el objeto KNeighborsClassifier\n",
    "KNN = KNeighborsClassifier()\n",
    "\n",
    "# Crear el objeto GridSearchCV con validación cruzada de 10 pliegues\n",
    "knn_cv = GridSearchCV(KNN, parameters, cv=10)\n",
    "\n",
    "# Ajustar el modelo a los datos de entrenamiento\n",
    "knn_cv.fit(X_train, Y_train)\n",
    "\n",
    "# Mostrar los mejores parámetros encontrados\n",
    "print(\"Tuned hyperparameters :(best parameters) \", knn_cv.best_params_)\n",
    "\n",
    "# Mostrar la mejor precisión en los datos de validación\n",
    "print(\"Accuracy :\", knn_cv.best_score_)\n"
   ]
  },
  {
   "cell_type": "markdown",
   "id": "0757a926-71bf-4692-8351-02525a6c4c97",
   "metadata": {},
   "source": [
    "## TASK  11\n",
    "Calculate the accuracy of knn_cv on the test data using the method <code>score</code>:"
   ]
  },
  {
   "cell_type": "markdown",
   "id": "878092af-c76c-4ac7-af26-90252db839af",
   "metadata": {},
   "source": [
    "Para realizar TASK 11, debemos calcular la precisión del modelo k-Nearest Neighbors (KNN) ajustado sobre los datos de prueba utilizando el método score. Además, podemos trazar la matriz de confusión para visualizar el rendimiento del modelo."
   ]
  },
  {
   "cell_type": "code",
   "execution_count": 24,
   "id": "c61313d9-76c2-41b5-8a6d-943c624140d3",
   "metadata": {},
   "outputs": [
    {
     "name": "stdout",
     "output_type": "stream",
     "text": [
      "Accuracy on test data:  0.8333333333333334\n"
     ]
    },
    {
     "data": {
      "image/png": "[encoded data removed]",
      "text/plain": [
       "<Figure size 640x480 with 2 Axes>"
      ]
     },
     "metadata": {},
     "output_type": "display_data"
    }
   ],
   "source": [
    "# Calcular la precisión en los datos de prueba utilizando el método score\n",
    "accuracy = knn_cv.score(X_test, Y_test)\n",
    "\n",
    "# Mostrar la precisión\n",
    "print(\"Accuracy on test data: \", accuracy)\n",
    "\n",
    "# Realizar las predicciones sobre los datos de prueba\n",
    "yhat = knn_cv.predict(X_test)\n",
    "\n",
    "# Traza la matriz de confusión\n",
    "plot_confusion_matrix(Y_test, yhat)\n"
   ]
  },
  {
   "cell_type": "markdown",
   "id": "334c3a9b-69a1-408a-86a0-75140485aa0e",
   "metadata": {},
   "source": [
    "## TASK  12\n",
    "Find the method performs best:"
   ]
  },
  {
   "cell_type": "markdown",
   "id": "ff97f428-645d-412d-991b-dfa1677878a1",
   "metadata": {},
   "source": [
    "Para determinar qué modelo de clasificación tiene el mejor rendimiento, podemos comparar la precisión (accuracy) de todos los modelos entrenados. Para esto, podemos calcular la precisión de cada modelo en el conjunto de prueba (test data) y comparar los resultados.\n",
    "\n",
    "Pasos para completar TASK 12:\n",
    "\n",
    "- Calcular la precisión de cada modelo en los datos de prueba.\n",
    "- Comparar las precisiones obtenidas.\n",
    "- Visualizar los resultados o simplemente imprimir las precisiones para identificar el mejor modelo."
   ]
  },
  {
   "cell_type": "code",
   "execution_count": 25,
   "id": "12abdb73-a96c-4745-891e-22c3b694faf7",
   "metadata": {},
   "outputs": [
    {
     "name": "stdout",
     "output_type": "stream",
     "text": [
      "Logistic Regression: 0.8333\n",
      "SVM: 0.8333\n",
      "Decision Tree: 0.8333\n",
      "KNN: 0.8333\n",
      "\n",
      "Best Model: Logistic Regression with Accuracy: 0.8333\n"
     ]
    }
   ],
   "source": [
    "# Lista para almacenar los modelos y sus precisiones\n",
    "models = ['Logistic Regression', 'SVM', 'Decision Tree', 'KNN']\n",
    "accuracies = []\n",
    "\n",
    "# Obtener la precisión de cada modelo en el conjunto de prueba\n",
    "accuracies.append(logreg_cv.score(X_test, Y_test))  # Logreg\n",
    "accuracies.append(svm_cv.score(X_test, Y_test))  # SVM\n",
    "accuracies.append(tree_cv.score(X_test, Y_test))  # Decision Tree\n",
    "accuracies.append(knn_cv.score(X_test, Y_test))  # KNN\n",
    "\n",
    "# Imprimir las precisiones de cada modelo\n",
    "for model, accuracy in zip(models, accuracies):\n",
    "    print(f\"{model}: {accuracy:.4f}\")\n",
    "\n",
    "# Identificar el mejor modelo\n",
    "best_model = models[accuracies.index(max(accuracies))]\n",
    "best_accuracy = max(accuracies)\n",
    "\n",
    "print(f\"\\nBest Model: {best_model} with Accuracy: {best_accuracy:.4f}\")\n"
   ]
  },
  {
   "cell_type": "code",
   "execution_count": null,
   "id": "272c5415-e527-4716-aee2-a57595c843b6",
   "metadata": {},
   "outputs": [],
   "source": []
  }
 ],
 "metadata": {
  "kernelspec": {
   "display_name": "Python 3 (ipykernel)",
   "language": "python",
   "name": "python3"
  },
  "language_info": {
   "codemirror_mode": {
    "name": "ipython",
    "version": 3
   },
   "file_extension": ".py",
   "mimetype": "text/x-python",
   "name": "python",
   "nbconvert_exporter": "python",
   "pygments_lexer": "ipython3",
   "version": "3.12.4"
  }
 },
 "nbformat": 4,
 "nbformat_minor": 5
}
