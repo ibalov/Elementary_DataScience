{
 "cells": [
  {
   "cell_type": "markdown",
   "id": "30712fe8-ec07-4b3e-8c89-94b15bdec34e",
   "metadata": {},
   "source": [
    "# **Space X  Falcon 9 First Stage Landing Prediction**\n",
    "## Web scraping Falcon 9 and Falcon Heavy Launches Records from Wikipedia"
   ]
  },
  {
   "cell_type": "markdown",
   "id": "a638cc3a-8ab3-4441-8e85-2338ff5ef5d2",
   "metadata": {},
   "source": [
    "In this lab, you will be performing web scraping to collect Falcon 9 historical launch records from a Wikipedia page titled `List of Falcon 9 and Falcon Heavy launches`\n",
    "\n",
    "https://en.wikipedia.org/wiki/List_of_Falcon_9_and_Falcon_Heavy_launches"
   ]
  },
  {
   "cell_type": "markdown",
   "id": "f1589ae2-22b3-45d8-b3a3-c6a9b985eb03",
   "metadata": {},
   "source": [
    "  ## Objectives\n",
    "Web scrap Falcon 9 launch records with `BeautifulSoup`: \n",
    "- Extract a Falcon 9 launch records HTML table from Wikipedia\n",
    "- Parse the table and convert it into a Pandas data frame"
   ]
  },
  {
   "cell_type": "code",
   "execution_count": null,
   "id": "25f5be53-0b2e-4b4b-bd2b-66199816fa69",
   "metadata": {},
   "outputs": [],
   "source": [
    "!pip3 install beautifulsoup4\n",
    "!pip3 install requests"
   ]
  },
  {
   "cell_type": "code",
   "execution_count": 3,
   "id": "004f223d-433d-4ecb-908b-e91718f99d99",
   "metadata": {},
   "outputs": [],
   "source": [
    "import sys\n",
    "\n",
    "import requests\n",
    "from bs4 import BeautifulSoup\n",
    "import re\n",
    "import unicodedata\n",
    "import pandas as pd"
   ]
  },
  {
   "cell_type": "markdown",
   "id": "784c85b2-7c5e-4471-affe-834887fd09de",
   "metadata": {},
   "source": [
    "and we will provide some helper functions for you to process web scraped HTML table"
   ]
  },
  {
   "cell_type": "code",
   "execution_count": 4,
   "id": "38b347bd-00ed-43fa-aad7-2b8f3f8874ad",
   "metadata": {},
   "outputs": [],
   "source": [
    "def date_time(table_cells):\n",
    "    \"\"\"\n",
    "    This function returns the data and time from the HTML  table cell\n",
    "    Input: the  element of a table data cell extracts extra row\n",
    "    \"\"\"\n",
    "    return [data_time.strip() for data_time in list(table_cells.strings)][0:2]\n",
    "\n",
    "def booster_version(table_cells):\n",
    "    \"\"\"\n",
    "    This function returns the booster version from the HTML  table cell \n",
    "    Input: the  element of a table data cell extracts extra row\n",
    "    \"\"\"\n",
    "    out=''.join([booster_version for i,booster_version in enumerate( table_cells.strings) if i%2==0][0:-1])\n",
    "    return out\n",
    "\n",
    "def landing_status(table_cells):\n",
    "    \"\"\"\n",
    "    This function returns the landing status from the HTML table cell \n",
    "    Input: the  element of a table data cell extracts extra row\n",
    "    \"\"\"\n",
    "    out=[i for i in table_cells.strings][0]\n",
    "    return out\n",
    "\n",
    "\n",
    "def get_mass(table_cells):\n",
    "    mass=unicodedata.normalize(\"NFKD\", table_cells.text).strip()\n",
    "    if mass:\n",
    "        mass.find(\"kg\")\n",
    "        new_mass=mass[0:mass.find(\"kg\")+2]\n",
    "    else:\n",
    "        new_mass=0\n",
    "    return new_mass\n",
    "\n",
    "\n",
    "def extract_column_from_header(row):\n",
    "    \"\"\"\n",
    "    This function returns the landing status from the HTML table cell \n",
    "    Input: the  element of a table data cell extracts extra row\n",
    "    \"\"\"\n",
    "    if (row.br):\n",
    "        row.br.extract()\n",
    "    if row.a:\n",
    "        row.a.extract()\n",
    "    if row.sup:\n",
    "        row.sup.extract()\n",
    "        \n",
    "    colunm_name = ' '.join(row.contents)\n",
    "    \n",
    "    # Filter the digit and empty names\n",
    "    if not(colunm_name.strip().isdigit()):\n",
    "        colunm_name = colunm_name.strip()\n",
    "        return colunm_name    \n"
   ]
  },
  {
   "cell_type": "markdown",
   "id": "7ccf2da5-e2e0-4ee0-ab83-c6e6be0cecfd",
   "metadata": {},
   "source": [
    "To keep the lab tasks consistent, you will be asked to scrape the data from a snapshot of the  `List of Falcon 9 and Falcon Heavy launches` Wikipage updated on \n",
    "`9th June 2021`"
   ]
  },
  {
   "cell_type": "code",
   "execution_count": 6,
   "id": "dd2a659a-4ff4-4141-b97d-7ca3e34de989",
   "metadata": {},
   "outputs": [],
   "source": [
    "static_url = \"https://en.wikipedia.org/w/index.php?title=List_of_Falcon_9_and_Falcon_Heavy_launches&oldid=1027686922\""
   ]
  },
  {
   "cell_type": "markdown",
   "id": "9eb1b766-d183-4a4b-942c-b6f77eee2359",
   "metadata": {},
   "source": [
    "Next, request the HTML page from the above URL and get a `response` object"
   ]
  },
  {
   "cell_type": "markdown",
   "id": "c5935c96-adc5-4584-96e9-50454d055b35",
   "metadata": {},
   "source": [
    "### TASK 1: Request the Falcon9 Launch Wiki page from its URL\n",
    "First, let's perform an HTTP GET method to request the Falcon9 Launch HTML page, as an HTTP response."
   ]
  },
  {
   "cell_type": "code",
   "execution_count": 8,
   "id": "72d98ec1-a30f-4848-bea8-60431ba07678",
   "metadata": {},
   "outputs": [
    {
     "name": "stdout",
     "output_type": "stream",
     "text": [
      "Request was successful!\n"
     ]
    }
   ],
   "source": [
    "# TASK 1: Request the Falcon9 Launch Wiki page from its URL\n",
    "# Use requests.get() method with the provided static_url\n",
    "# Assign the response to an object\n",
    "\n",
    "# Enviar la solicitud HTTP GET\n",
    "response = requests.get(static_url)\n",
    "\n",
    "# Verificar si la solicitud fue exitosa\n",
    "if response.status_code == 200:\n",
    "    print(\"Request was successful!\")\n",
    "else:\n",
    "    print(f\"Failed to retrieve the webpage. Status code: {response.status_code}\")\n",
    "\n",
    "# Almacenar el contenido HTML en una variable\n",
    "html_content = response.text  # El contenido HTML como texto"
   ]
  },
  {
   "cell_type": "markdown",
   "id": "f6dc154e-3bb8-4256-999d-49fd7b052a2e",
   "metadata": {},
   "source": [
    "Create a `BeautifulSoup` object from the HTML `response`\n"
   ]
  },
  {
   "cell_type": "code",
   "execution_count": 9,
   "id": "ccfefc38-2263-4c34-a7be-5fd5fae420c0",
   "metadata": {},
   "outputs": [
    {
     "name": "stdout",
     "output_type": "stream",
     "text": [
      "List of Falcon 9 and Falcon Heavy launches - Wikipedia\n"
     ]
    }
   ],
   "source": [
    "# Importar la clase BeautifulSoup del módulo bs4\n",
    "from bs4 import BeautifulSoup\n",
    "\n",
    "# Crear un objeto BeautifulSoup a partir del contenido HTML de la respuesta\n",
    "soup = BeautifulSoup(html_content, 'html.parser')\n",
    "\n",
    "# Imprimir el título de la página para verificar que el objeto se creó correctamente\n",
    "print(soup.title.string)\n"
   ]
  },
  {
   "cell_type": "markdown",
   "id": "fb7e722a-2383-43d7-980a-db61d23044f1",
   "metadata": {},
   "source": [
    "### TASK 2: Extract all column/variable names from the HTML table header\n",
    "\n",
    "Next, we want to collect all relevant column names from the HTML table header\n",
    "\n",
    "Let's try to find all tables on the wiki page first. If you need to refresh your memory about `BeautifulSoup`, please check the external reference link towards the end of this lab\n"
   ]
  },
  {
   "cell_type": "code",
   "execution_count": 12,
   "id": "b68f59c4-df19-43d3-9267-a13fc907fb99",
   "metadata": {},
   "outputs": [
    {
     "name": "stdout",
     "output_type": "stream",
     "text": [
      "Número de tablas encontradas: 26\n"
     ]
    }
   ],
   "source": [
    "#puedes usar el método find_all de BeautifulSoup para buscar todos los elementos de tipo <table> en la página HTML.\n",
    "# Buscar todas las tablas en la página HTML\n",
    "html_tables = soup.find_all('table')\n",
    "\n",
    "# Imprimir la cantidad de tablas encontradas para verificar\n",
    "print(f\"Número de tablas encontradas: {len(html_tables)}\")\n"
   ]
  },
  {
   "cell_type": "markdown",
   "id": "700c1240-9c19-44b0-930a-118d6b0ab233",
   "metadata": {},
   "source": [
    "Starting from the third table is our target table contains the actual launch records."
   ]
  },
  {
   "cell_type": "code",
   "execution_count": 20,
   "id": "4334bcdf-9a9f-4e62-bd3f-6e7989d40a5b",
   "metadata": {},
   "outputs": [],
   "source": [
    "# Let's print the third table and check its content\n",
    "first_launch_table = html_tables[2]\n",
    "#print(first_launch_table)"
   ]
  },
  {
   "cell_type": "markdown",
   "id": "21665946-5604-4bff-9fb4-d4df3533dfac",
   "metadata": {},
   "source": [
    "Next, we just need to iterate through the `<th>` elements and apply the provided `extract_column_from_header()` to extract column name one by one\n"
   ]
  },
  {
   "cell_type": "code",
   "execution_count": 21,
   "id": "9611c3a4-025a-4629-9e7f-3a5b117e996d",
   "metadata": {},
   "outputs": [],
   "source": [
    "# Inicializamos la lista para almacenar los nombres de las columnas\n",
    "column_names = []\n",
    "\n",
    "# Usamos find_all() para buscar todos los elementos <th> en la tabla seleccionada\n",
    "table_headers = first_launch_table.find_all('th')\n",
    "\n",
    "# Iteramos sobre cada elemento <th>\n",
    "for header in table_headers:\n",
    "    # Extraemos el nombre de la columna usando extract_column_from_header()\n",
    "    column_name = extract_column_from_header(header)\n",
    "    \n",
    "    # Si el nombre no está vacío y tiene longitud mayor a 0, lo agregamos a la lista\n",
    "    if column_name is not None and len(column_name) > 0:\n",
    "        column_names.append(column_name)"
   ]
  },
  {
   "cell_type": "code",
   "execution_count": 22,
   "id": "83f3a93e-82b3-414d-b899-cdfcaa0a44c0",
   "metadata": {},
   "outputs": [
    {
     "name": "stdout",
     "output_type": "stream",
     "text": [
      "['Flight No.', 'Date and time ( )', 'Launch site', 'Payload', 'Payload mass', 'Orbit', 'Customer', 'Launch outcome']\n"
     ]
    }
   ],
   "source": [
    "# Imprimimos los nombres de las columnas para verificar\n",
    "print(column_names)"
   ]
  },
  {
   "cell_type": "markdown",
   "id": "748ce13d-c244-4245-9b31-c3305105b4aa",
   "metadata": {},
   "source": [
    "## TASK 3: Create a data frame by parsing the launch HTML tables\n",
    "We will create an empty dictionary with keys from the extracted column names in the previous task. Later, this dictionary will be converted into a Pandas dataframe\n"
   ]
  },
  {
   "cell_type": "code",
   "execution_count": 79,
   "id": "30cf89fb-dabc-4f56-bef8-db7bfd0f9f88",
   "metadata": {},
   "outputs": [],
   "source": [
    "launch_dict= dict.fromkeys(column_names)\n",
    "\n",
    "# Remove an irrelvant column\n",
    "del launch_dict['Date and time ( )']\n",
    "\n",
    "# Let's initial the launch_dict with each value to be an empty list\n",
    "launch_dict['Flight No.'] = []\n",
    "launch_dict['Launch site'] = []\n",
    "launch_dict['Payload'] = []\n",
    "launch_dict['Payload mass'] = []\n",
    "launch_dict['Orbit'] = []\n",
    "launch_dict['Customer'] = []\n",
    "launch_dict['Launch outcome'] = []\n",
    "# Added some new columns\n",
    "launch_dict['Version Booster']=[]\n",
    "launch_dict['Booster landing']=[]\n",
    "launch_dict['Date']=[]\n",
    "launch_dict['Time']=[]"
   ]
  },
  {
   "cell_type": "markdown",
   "id": "d341fe51-58d6-4eb4-85b7-5d34c3a33f44",
   "metadata": {},
   "source": [
    "Next, we just need to fill up the `launch_dict` with launch records extracted from table rows.\n",
    "\n",
    "Usually, HTML tables in Wiki pages are likely to contain unexpected annotations and other types of noises, such as reference links `B0004.1[8]`, missing values `N/A [e]`, inconsistent formatting, etc.\n",
    "\n",
    "To simplify the parsing process, we have provided an incomplete code snippet below to help you to fill up the `launch_dict`. Please complete the following code snippet with TODOs or you can choose to write your own logic to parse all launch tables:\n"
   ]
  },
  {
   "cell_type": "code",
   "execution_count": 94,
   "id": "f6e1db92-cca9-4a6a-9a5b-d078fabe2574",
   "metadata": {},
   "outputs": [],
   "source": [
    "extracted_row = 0\n",
    "#Extract each table \n",
    "for table_number,table in enumerate(soup.find_all('table',\"wikitable plainrowheaders collapsible\")):\n",
    "   # get table row \n",
    "    for rows in table.find_all(\"tr\"):\n",
    "        #check to see if first table heading is as number corresponding to launch a number \n",
    "        if rows.th:\n",
    "            if rows.th.string:\n",
    "                flight_number=rows.th.string.strip()\n",
    "                flag=flight_number.isdigit()\n",
    "        else:\n",
    "            flag=False\n",
    "        #get table element \n",
    "        row=rows.find_all('td')\n",
    "        #if it is number save cells in a dictonary \n",
    "        if flag:\n",
    "            extracted_row += 1\n",
    "            # Flight Number value\n",
    "            # TODO: Append the flight_number into launch_dict with key `Flight No.`\n",
    "            #print(flight_number)\n",
    "            datatimelist=date_time(row[0])\n",
    "            \n",
    "            # Date value\n",
    "            # TODO: Append the date into launch_dict with key `Date`\n",
    "            date = datatimelist[0].strip(',')\n",
    "            #print(date)\n",
    "            \n",
    "            # Time value\n",
    "            # TODO: Append the time into launch_dict with key `Time`\n",
    "            time = datatimelist[1]\n",
    "            #print(time)\n",
    "              \n",
    "            # Booster version\n",
    "            # TODO: Append the bv into launch_dict with key `Version Booster`\n",
    "            bv=booster_version(row[1])\n",
    "            if not(bv):\n",
    "                bv=row[1].a.string\n",
    "            #print(bv)\n",
    "            \n",
    "            # Launch Site\n",
    "            # TODO: Append the bv into launch_dict with key `Launch Site`\n",
    "            launch_site = row[2].a.string\n",
    "            #print(launch_site)\n",
    "            \n",
    "            # Payload\n",
    "            # TODO: Append the payload into launch_dict with key `Payload`\n",
    "            payload = row[3].a.string\n",
    "            #print(payload)\n",
    "            \n",
    "            # Payload Mass\n",
    "            # TODO: Append the payload_mass into launch_dict with key `Payload mass`\n",
    "            payload_mass = get_mass(row[4])\n",
    "            #print(payload)\n",
    "            \n",
    "            # Orbit\n",
    "            # TODO: Append the orbit into launch_dict with key `Orbit`\n",
    "            orbit = row[5].a.string\n",
    "            #print(orbit)\n",
    "            \n",
    "            # Customer\n",
    "            # TODO: Append the customer into launch_dict with key `Customer`\n",
    "            #customer = row[6].a.string\n",
    "            #print(customer)\n",
    "            if row[6].a and row[6].a.string:\n",
    "                customer = row[6].a.string.strip()  # Extrae el texto del enlace y elimina espacios.\n",
    "            else:\n",
    "                customer = None\n",
    "            #print(customer)\n",
    "            \n",
    "            # Launch outcome\n",
    "            # TODO: Append the launch_outcome into launch_dict with key `Launch outcome`\n",
    "            launch_outcome = list(row[7].strings)[0]\n",
    "            #print(launch_outcome)\n",
    "            \n",
    "            # Booster landing\n",
    "            # TODO: Append the launch_outcome into launch_dict with key `Booster landing`\n",
    "            booster_landing = landing_status(row[8])\n",
    "            #print(booster_landing)\n",
    "\n",
    "            # Agregar los valores a launch_dict\n",
    "            launch_dict['Flight No.'].append(flight_number)\n",
    "            launch_dict['Date'].append(date)\n",
    "            launch_dict['Time'].append(time)\n",
    "            launch_dict['Version Booster'].append(bv)\n",
    "            launch_dict['Launch site'].append(launch_site)\n",
    "            launch_dict['Payload'].append(payload)\n",
    "            launch_dict['Payload mass'].append(payload_mass)\n",
    "            launch_dict['Orbit'].append(orbit)\n",
    "            launch_dict['Customer'].append(customer)\n",
    "            launch_dict['Launch outcome'].append(launch_outcome)\n",
    "            launch_dict['Booster landing'].append(booster_landing)"
   ]
  },
  {
   "cell_type": "markdown",
   "id": "69d7110f-437b-40e4-a20c-a6c2a6b2ec38",
   "metadata": {},
   "source": [
    "After you have fill in the parsed launch record values into `launch_dict`, you can create a dataframe from it."
   ]
  },
  {
   "cell_type": "code",
   "execution_count": 95,
   "id": "2358dfcc-6d49-43c5-8272-7d8efd98c541",
   "metadata": {},
   "outputs": [],
   "source": [
    "df= pd.DataFrame({ key:pd.Series(value) for key, value in launch_dict.items() })"
   ]
  },
  {
   "cell_type": "code",
   "execution_count": 96,
   "id": "c70120e3-253a-4f18-8d8f-173d8973ce2f",
   "metadata": {},
   "outputs": [
    {
     "data": {
      "text/html": [
       "<div>\n",
       "<style scoped>\n",
       "    .dataframe tbody tr th:only-of-type {\n",
       "        vertical-align: middle;\n",
       "    }\n",
       "\n",
       "    .dataframe tbody tr th {\n",
       "        vertical-align: top;\n",
       "    }\n",
       "\n",
       "    .dataframe thead th {\n",
       "        text-align: right;\n",
       "    }\n",
       "</style>\n",
       "<table border=\"1\" class=\"dataframe\">\n",
       "  <thead>\n",
       "    <tr style=\"text-align: right;\">\n",
       "      <th></th>\n",
       "      <th>Flight No.</th>\n",
       "      <th>Launch site</th>\n",
       "      <th>Payload</th>\n",
       "      <th>Payload mass</th>\n",
       "      <th>Orbit</th>\n",
       "      <th>Customer</th>\n",
       "      <th>Launch outcome</th>\n",
       "      <th>Version Booster</th>\n",
       "      <th>Booster landing</th>\n",
       "      <th>Date</th>\n",
       "      <th>Time</th>\n",
       "    </tr>\n",
       "  </thead>\n",
       "  <tbody>\n",
       "    <tr>\n",
       "      <th>0</th>\n",
       "      <td>121</td>\n",
       "      <td>CCSFS</td>\n",
       "      <td>SXM-8</td>\n",
       "      <td>7,000 kg</td>\n",
       "      <td>GTO</td>\n",
       "      <td>Sirius XM</td>\n",
       "      <td>Success\\n</td>\n",
       "      <td>F9 B5</td>\n",
       "      <td>Success</td>\n",
       "      <td>6 June 2021</td>\n",
       "      <td>04:26</td>\n",
       "    </tr>\n",
       "    <tr>\n",
       "      <th>1</th>\n",
       "      <td>1</td>\n",
       "      <td>CCAFS</td>\n",
       "      <td>Dragon Spacecraft Qualification Unit</td>\n",
       "      <td>0</td>\n",
       "      <td>LEO</td>\n",
       "      <td>SpaceX</td>\n",
       "      <td>Success\\n</td>\n",
       "      <td>F9 v1.07B0003.18</td>\n",
       "      <td>Failure</td>\n",
       "      <td>4 June 2010</td>\n",
       "      <td>18:45</td>\n",
       "    </tr>\n",
       "    <tr>\n",
       "      <th>2</th>\n",
       "      <td>2</td>\n",
       "      <td>CCAFS</td>\n",
       "      <td>Dragon</td>\n",
       "      <td>0</td>\n",
       "      <td>LEO</td>\n",
       "      <td>NASA</td>\n",
       "      <td>Success</td>\n",
       "      <td>F9 v1.07B0004.18</td>\n",
       "      <td>Failure</td>\n",
       "      <td>8 December 2010</td>\n",
       "      <td>15:43</td>\n",
       "    </tr>\n",
       "    <tr>\n",
       "      <th>3</th>\n",
       "      <td>3</td>\n",
       "      <td>CCAFS</td>\n",
       "      <td>Dragon</td>\n",
       "      <td>525 kg</td>\n",
       "      <td>LEO</td>\n",
       "      <td>NASA</td>\n",
       "      <td>Success</td>\n",
       "      <td>F9 v1.07B0005.18</td>\n",
       "      <td>No attempt\\n</td>\n",
       "      <td>22 May 2012</td>\n",
       "      <td>07:44</td>\n",
       "    </tr>\n",
       "    <tr>\n",
       "      <th>4</th>\n",
       "      <td>4</td>\n",
       "      <td>CCAFS</td>\n",
       "      <td>SpaceX CRS-1</td>\n",
       "      <td>4,700 kg</td>\n",
       "      <td>LEO</td>\n",
       "      <td>NASA</td>\n",
       "      <td>Success\\n</td>\n",
       "      <td>F9 v1.07B0006.18</td>\n",
       "      <td>No attempt</td>\n",
       "      <td>8 October 2012</td>\n",
       "      <td>00:35</td>\n",
       "    </tr>\n",
       "  </tbody>\n",
       "</table>\n",
       "</div>"
      ],
      "text/plain": [
       "  Flight No. Launch site                               Payload Payload mass  \\\n",
       "0        121       CCSFS                                 SXM-8     7,000 kg   \n",
       "1          1       CCAFS  Dragon Spacecraft Qualification Unit            0   \n",
       "2          2       CCAFS                                Dragon            0   \n",
       "3          3       CCAFS                                Dragon       525 kg   \n",
       "4          4       CCAFS                          SpaceX CRS-1     4,700 kg   \n",
       "\n",
       "  Orbit   Customer Launch outcome   Version Booster Booster landing  \\\n",
       "0   GTO  Sirius XM      Success\\n             F9 B5         Success   \n",
       "1   LEO     SpaceX      Success\\n  F9 v1.07B0003.18         Failure   \n",
       "2   LEO       NASA        Success  F9 v1.07B0004.18         Failure   \n",
       "3   LEO       NASA        Success  F9 v1.07B0005.18    No attempt\\n   \n",
       "4   LEO       NASA      Success\\n  F9 v1.07B0006.18      No attempt   \n",
       "\n",
       "              Date   Time  \n",
       "0      6 June 2021  04:26  \n",
       "1      4 June 2010  18:45  \n",
       "2  8 December 2010  15:43  \n",
       "3      22 May 2012  07:44  \n",
       "4   8 October 2012  00:35  "
      ]
     },
     "execution_count": 96,
     "metadata": {},
     "output_type": "execute_result"
    }
   ],
   "source": [
    "df.head()"
   ]
  },
  {
   "cell_type": "code",
   "execution_count": 97,
   "id": "36fa6edd-5aae-4623-9444-7c5e09e1d397",
   "metadata": {},
   "outputs": [],
   "source": [
    "df.to_csv('spacex_web_scraped.csv', index=False)"
   ]
  },
  {
   "cell_type": "markdown",
   "id": "64c27b7f-6dfa-42be-a50c-3d6d2b7e7e50",
   "metadata": {},
   "source": [
    "<hr>\n",
    "<hr>"
   ]
  },
  {
   "cell_type": "code",
   "execution_count": 99,
   "id": "b12f3aec-f5ac-4114-8734-8f18767b0b62",
   "metadata": {},
   "outputs": [
    {
     "name": "stdout",
     "output_type": "stream",
     "text": [
      "2006\n"
     ]
    }
   ],
   "source": [
    "import requests\n",
    "import pandas as pd\n",
    "\n",
    "# Perform a GET request on the SpaceX API\n",
    "url = \"https://api.spacexdata.com/v4/launches\"\n",
    "response = requests.get(url)\n",
    "\n",
    "# Convert the response to JSON\n",
    "data = response.json()\n",
    "\n",
    "# Normalize the JSON data into a DataFrame\n",
    "df = pd.json_normalize(data)\n",
    "\n",
    "# Extract the year from the 'static_fire_date_utc' column (first row)\n",
    "# Ensure that the static_fire_date_utc is in datetime format first\n",
    "df['static_fire_date_utc'] = pd.to_datetime(df['static_fire_date_utc'], errors='coerce')\n",
    "\n",
    "# Extract the year from the first row\n",
    "first_row_year = df['static_fire_date_utc'].iloc[0].year\n",
    "\n",
    "# Print the year\n",
    "print(first_row_year)\n"
   ]
  },
  {
   "cell_type": "code",
   "execution_count": 134,
   "id": "cf7e8d1d-45b7-4a09-9dbe-efa084bf8f68",
   "metadata": {},
   "outputs": [
    {
     "name": "stdout",
     "output_type": "stream",
     "text": [
      "Number of Falcon 9 launches after removing Falcon 1 launches: 195\n"
     ]
    }
   ],
   "source": [
    "# Provided IDs for Falcon 1 and Falcon 9\n",
    "falcon_1_id = '5e9d0d95eda69955f709d1eb'  # Falcon 1 rocket ID\n",
    "falcon_9_id = '5e9d0d95eda69973a809d1ec'  # Falcon 9 rocket ID\n",
    "\n",
    "# Filter Falcon 9 launches\n",
    "falcon_9_launches = df[df['rocket'] == falcon_9_id]\n",
    "\n",
    "# Filter out Falcon 1 launches from the DataFrame\n",
    "df_without_falcon_1 = df[df['rocket'] != falcon_1_id]\n",
    "\n",
    "# Count the Falcon 9 launches in the filtered DataFrame\n",
    "falcon_9_after_removal = df_without_falcon_1[df_without_falcon_1['rocket'] == falcon_9_id]\n",
    "\n",
    "# Get the count of Falcon 9 launches\n",
    "falcon_9_count = falcon_9_after_removal.shape[0]\n",
    "\n",
    "print(f\"Number of Falcon 9 launches after removing Falcon 1 launches: {falcon_9_count}\")"
   ]
  },
  {
   "cell_type": "code",
   "execution_count": 127,
   "id": "0c54c914-daa8-444f-8f56-8911e77608e8",
   "metadata": {},
   "outputs": [],
   "source": [
    "df['columna_sin_duplicados'] = df['rocket'].drop_duplicates()"
   ]
  },
  {
   "cell_type": "code",
   "execution_count": 131,
   "id": "025c80ed-405d-4602-8e09-545108db9ca4",
   "metadata": {},
   "outputs": [],
   "source": [
    "df_unique = df.drop_duplicates(subset=['rocket'])"
   ]
  },
  {
   "cell_type": "code",
   "execution_count": 132,
   "id": "75a4c37c-5d3f-4f9c-a903-8aeb09992a8e",
   "metadata": {},
   "outputs": [
    {
     "data": {
      "text/html": [
       "<div>\n",
       "<style scoped>\n",
       "    .dataframe tbody tr th:only-of-type {\n",
       "        vertical-align: middle;\n",
       "    }\n",
       "\n",
       "    .dataframe tbody tr th {\n",
       "        vertical-align: top;\n",
       "    }\n",
       "\n",
       "    .dataframe thead th {\n",
       "        text-align: right;\n",
       "    }\n",
       "</style>\n",
       "<table border=\"1\" class=\"dataframe\">\n",
       "  <thead>\n",
       "    <tr style=\"text-align: right;\">\n",
       "      <th></th>\n",
       "      <th>static_fire_date_utc</th>\n",
       "      <th>static_fire_date_unix</th>\n",
       "      <th>net</th>\n",
       "      <th>window</th>\n",
       "      <th>rocket</th>\n",
       "      <th>success</th>\n",
       "      <th>failures</th>\n",
       "      <th>details</th>\n",
       "      <th>crew</th>\n",
       "      <th>ships</th>\n",
       "      <th>...</th>\n",
       "      <th>links.reddit.recovery</th>\n",
       "      <th>links.flickr.small</th>\n",
       "      <th>links.flickr.original</th>\n",
       "      <th>links.presskit</th>\n",
       "      <th>links.webcast</th>\n",
       "      <th>links.youtube_id</th>\n",
       "      <th>links.article</th>\n",
       "      <th>links.wikipedia</th>\n",
       "      <th>fairings</th>\n",
       "      <th>columna_sin_duplicados</th>\n",
       "    </tr>\n",
       "  </thead>\n",
       "  <tbody>\n",
       "    <tr>\n",
       "      <th>0</th>\n",
       "      <td>2006-03-17T00:00:00.000Z</td>\n",
       "      <td>1.142554e+09</td>\n",
       "      <td>False</td>\n",
       "      <td>0.0</td>\n",
       "      <td>5e9d0d95eda69955f709d1eb</td>\n",
       "      <td>False</td>\n",
       "      <td>[{'time': 33, 'altitude': None, 'reason': 'mer...</td>\n",
       "      <td>Engine failure at 33 seconds and loss of vehicle</td>\n",
       "      <td>[]</td>\n",
       "      <td>[]</td>\n",
       "      <td>...</td>\n",
       "      <td>None</td>\n",
       "      <td>[]</td>\n",
       "      <td>[]</td>\n",
       "      <td>None</td>\n",
       "      <td>https://www.youtube.com/watch?v=0a_00nJ_Y88</td>\n",
       "      <td>0a_00nJ_Y88</td>\n",
       "      <td>https://www.space.com/2196-spacex-inaugural-fa...</td>\n",
       "      <td>https://en.wikipedia.org/wiki/DemoSat</td>\n",
       "      <td>NaN</td>\n",
       "      <td>5e9d0d95eda69955f709d1eb</td>\n",
       "    </tr>\n",
       "    <tr>\n",
       "      <th>5</th>\n",
       "      <td>2010-03-13T00:00:00.000Z</td>\n",
       "      <td>1.268438e+09</td>\n",
       "      <td>False</td>\n",
       "      <td>0.0</td>\n",
       "      <td>5e9d0d95eda69973a809d1ec</td>\n",
       "      <td>True</td>\n",
       "      <td>[]</td>\n",
       "      <td>None</td>\n",
       "      <td>[]</td>\n",
       "      <td>[]</td>\n",
       "      <td>...</td>\n",
       "      <td>None</td>\n",
       "      <td>[]</td>\n",
       "      <td>[]</td>\n",
       "      <td>http://forum.nasaspaceflight.com/index.php?act...</td>\n",
       "      <td>https://www.youtube.com/watch?v=nxSxgBKlYws</td>\n",
       "      <td>nxSxgBKlYws</td>\n",
       "      <td>http://www.spacex.com/news/2013/02/12/falcon-9...</td>\n",
       "      <td>https://en.wikipedia.org/wiki/Dragon_Spacecraf...</td>\n",
       "      <td>NaN</td>\n",
       "      <td>5e9d0d95eda69973a809d1ec</td>\n",
       "    </tr>\n",
       "    <tr>\n",
       "      <th>54</th>\n",
       "      <td>2018-01-24T17:30:00.000Z</td>\n",
       "      <td>1.516815e+09</td>\n",
       "      <td>False</td>\n",
       "      <td>9000.0</td>\n",
       "      <td>5e9d0d95eda69974db09d1ed</td>\n",
       "      <td>True</td>\n",
       "      <td>[]</td>\n",
       "      <td>The launch was a success, and the side booster...</td>\n",
       "      <td>[]</td>\n",
       "      <td>[5ea6ed2f080df4000697c90c, 5ea6ed2f080df400069...</td>\n",
       "      <td>...</td>\n",
       "      <td>None</td>\n",
       "      <td>[]</td>\n",
       "      <td>[https://farm5.staticflickr.com/4745/401103041...</td>\n",
       "      <td>http://www.spacex.com/sites/spacex/files/falco...</td>\n",
       "      <td>https://www.youtube.com/watch?v=wbSwFU6tY1c</td>\n",
       "      <td>wbSwFU6tY1c</td>\n",
       "      <td>https://spaceflightnow.com/2018/02/07/spacex-d...</td>\n",
       "      <td>https://en.wikipedia.org/wiki/Elon_Musk%27s_Te...</td>\n",
       "      <td>NaN</td>\n",
       "      <td>5e9d0d95eda69974db09d1ed</td>\n",
       "    </tr>\n",
       "  </tbody>\n",
       "</table>\n",
       "<p>3 rows × 44 columns</p>\n",
       "</div>"
      ],
      "text/plain": [
       "        static_fire_date_utc  static_fire_date_unix    net  window  \\\n",
       "0   2006-03-17T00:00:00.000Z           1.142554e+09  False     0.0   \n",
       "5   2010-03-13T00:00:00.000Z           1.268438e+09  False     0.0   \n",
       "54  2018-01-24T17:30:00.000Z           1.516815e+09  False  9000.0   \n",
       "\n",
       "                      rocket success  \\\n",
       "0   5e9d0d95eda69955f709d1eb   False   \n",
       "5   5e9d0d95eda69973a809d1ec    True   \n",
       "54  5e9d0d95eda69974db09d1ed    True   \n",
       "\n",
       "                                             failures  \\\n",
       "0   [{'time': 33, 'altitude': None, 'reason': 'mer...   \n",
       "5                                                  []   \n",
       "54                                                 []   \n",
       "\n",
       "                                              details crew  \\\n",
       "0    Engine failure at 33 seconds and loss of vehicle   []   \n",
       "5                                                None   []   \n",
       "54  The launch was a success, and the side booster...   []   \n",
       "\n",
       "                                                ships  ...  \\\n",
       "0                                                  []  ...   \n",
       "5                                                  []  ...   \n",
       "54  [5ea6ed2f080df4000697c90c, 5ea6ed2f080df400069...  ...   \n",
       "\n",
       "   links.reddit.recovery links.flickr.small  \\\n",
       "0                   None                 []   \n",
       "5                   None                 []   \n",
       "54                  None                 []   \n",
       "\n",
       "                                links.flickr.original  \\\n",
       "0                                                  []   \n",
       "5                                                  []   \n",
       "54  [https://farm5.staticflickr.com/4745/401103041...   \n",
       "\n",
       "                                       links.presskit  \\\n",
       "0                                                None   \n",
       "5   http://forum.nasaspaceflight.com/index.php?act...   \n",
       "54  http://www.spacex.com/sites/spacex/files/falco...   \n",
       "\n",
       "                                  links.webcast links.youtube_id  \\\n",
       "0   https://www.youtube.com/watch?v=0a_00nJ_Y88      0a_00nJ_Y88   \n",
       "5   https://www.youtube.com/watch?v=nxSxgBKlYws      nxSxgBKlYws   \n",
       "54  https://www.youtube.com/watch?v=wbSwFU6tY1c      wbSwFU6tY1c   \n",
       "\n",
       "                                        links.article  \\\n",
       "0   https://www.space.com/2196-spacex-inaugural-fa...   \n",
       "5   http://www.spacex.com/news/2013/02/12/falcon-9...   \n",
       "54  https://spaceflightnow.com/2018/02/07/spacex-d...   \n",
       "\n",
       "                                      links.wikipedia fairings  \\\n",
       "0               https://en.wikipedia.org/wiki/DemoSat      NaN   \n",
       "5   https://en.wikipedia.org/wiki/Dragon_Spacecraf...      NaN   \n",
       "54  https://en.wikipedia.org/wiki/Elon_Musk%27s_Te...      NaN   \n",
       "\n",
       "      columna_sin_duplicados  \n",
       "0   5e9d0d95eda69955f709d1eb  \n",
       "5   5e9d0d95eda69973a809d1ec  \n",
       "54  5e9d0d95eda69974db09d1ed  \n",
       "\n",
       "[3 rows x 44 columns]"
      ]
     },
     "execution_count": 132,
     "metadata": {},
     "output_type": "execute_result"
    }
   ],
   "source": [
    "df_unique.head()"
   ]
  },
  {
   "cell_type": "code",
   "execution_count": 133,
   "id": "cbb276cb-e12f-4b4f-91cd-531eea65a9ba",
   "metadata": {},
   "outputs": [
    {
     "name": "stdout",
     "output_type": "stream",
     "text": [
      "0                                              https://www.space.com/2196-spacex-inaugural-falcon-1-rocket-lost-launch.html\n",
      "5                                                                   http://www.spacex.com/news/2013/02/12/falcon-9-flight-1\n",
      "54    https://spaceflightnow.com/2018/02/07/spacex-debuts-worlds-most-powerful-rocket-sends-tesla-toward-the-asteroid-belt/\n",
      "Name: links.article, dtype: object\n"
     ]
    }
   ],
   "source": [
    "# Establece el número máximo de caracteres para mostrar en una columna\n",
    "pd.set_option('display.max_colwidth', None)\n",
    "\n",
    "# Ahora puedes ver todas las columnas con texto completo\n",
    "print(df_unique['links.article'])"
   ]
  },
  {
   "cell_type": "code",
   "execution_count": null,
   "id": "83424e3f-b14e-427f-8fca-070edda04198",
   "metadata": {},
   "outputs": [],
   "source": []
  }
 ],
 "metadata": {
  "kernelspec": {
   "display_name": "Python 3 (ipykernel)",
   "language": "python",
   "name": "python3"
  },
  "language_info": {
   "codemirror_mode": {
    "name": "ipython",
    "version": 3
   },
   "file_extension": ".py",
   "mimetype": "text/x-python",
   "name": "python",
   "nbconvert_exporter": "python",
   "pygments_lexer": "ipython3",
   "version": "3.12.4"
  }
 },
 "nbformat": 4,
 "nbformat_minor": 5
}
